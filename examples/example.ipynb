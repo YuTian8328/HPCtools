{
 "cells": [
  {
   "cell_type": "markdown",
   "metadata": {},
   "source": [
    "# Example experiments"
   ]
  },
  {
   "cell_type": "markdown",
   "metadata": {},
   "source": [
    "experiment description"
   ]
  },
  {
   "cell_type": "code",
   "execution_count": 1,
   "metadata": {},
   "outputs": [],
   "source": [
    "# Experiment configuration\n",
    "main = \"example.py\"\n",
    "config = {\n",
    "    \"string\": [\n",
    "        \"Hello, World!\",\n",
    "        \"Ciao Mondo!\",\n",
    "        \"Merhaba Dünya!\",\n",
    "    ]\n",
    "}\n",
    "config_names = [\n",
    "    \"example\",\n",
    "    [\n",
    "        \"en\",\n",
    "        \"it\",\n",
    "        \"tr\",\n",
    "    ]\n",
    "]"
   ]
  },
  {
   "cell_type": "code",
   "execution_count": 2,
   "metadata": {},
   "outputs": [],
   "source": [
    "# Environment configuration\n",
    "slurm_config = {\n",
    "    \"time\": \"10:00:00\",\n",
    "    \"mem\": \"64G\",\n",
    "    \"cpus-per-task\": \"2\",\n",
    "    \"gres\": \"gpu:a100:1\"\n",
    "}\n",
    "\n",
    "env = \"../templates/env/base.env\"\n",
    "\n",
    "run_before = f\"\"\"\n",
    "source $HOME/venvs/base/bin/activate\n",
    "\"\"\""
   ]
  },
  {
   "cell_type": "code",
   "execution_count": 3,
   "metadata": {},
   "outputs": [],
   "source": [
    "import sys\n",
    "\n",
    "sys.path.insert(1, '../')"
   ]
  },
  {
   "cell_type": "markdown",
   "metadata": {},
   "source": [
    "### Run the experiment"
   ]
  },
  {
   "cell_type": "code",
   "execution_count": 4,
   "metadata": {},
   "outputs": [
    {
     "name": "stdout",
     "output_type": "stream",
     "text": [
      "Connecting to remote host\n"
     ]
    }
   ],
   "source": [
    "from runners import TritonRunner\n",
    "from utils import GridConfig, flatten_names\n",
    "\n",
    "runner = TritonRunner(\n",
    "    workdir=\"/home/myhome/workspace/example\",\n",
    "    hostname=\"hpc.example.it\",\n",
    "    username=\"example\",\n",
    "    key_filename=\"~/.ssh/example\",\n",
    ")\n",
    "runner.connect()\n"
   ]
  },
  {
   "cell_type": "code",
   "execution_count": 5,
   "metadata": {},
   "outputs": [
    {
     "name": "stdout",
     "output_type": "stream",
     "text": [
      "Uploading context to remote host\n",
      "Submitted batch job 28603140\n",
      "\n",
      "\u001b[91m\u001b[0m\n"
     ]
    }
   ],
   "source": [
    "runner.run(\n",
    "    subexperiment_name=main.split(\".\")[0],\n",
    "    template=\"../templates/slurm/arrayjob.slurm.j2\",\n",
    "    template_args={\n",
    "        \"slurm_args\": slurm_config,\n",
    "        \"env\": open(env).read(),\n",
    "        \"run_before\": run_before,\n",
    "        \"script_config_names\": flatten_names(config_names),\n",
    "        \"script_configs\": GridConfig(config).flatten(to_args=True),\n",
    "        \"script\": f\"python3 {main}\",\n",
    "        \"run_after\": \"\",\n",
    "        \"wandb_project_name\": \"\"\n",
    "    }\n",
    ")"
   ]
  },
  {
   "cell_type": "markdown",
   "metadata": {},
   "source": [
    "### Subexperiment 2"
   ]
  },
  {
   "cell_type": "code",
   "execution_count": 6,
   "metadata": {},
   "outputs": [
    {
     "data": {
      "application/vnd.jupyter.widget-view+json": {
       "model_id": "389d1c3332fe4b30abecd4043ce51286",
       "version_major": 2,
       "version_minor": 0
      },
      "text/plain": [
       "VBox(children=(Label(value='Slurm Queue', layout=Layout(justify_content='center', width='100%')), HTML(value=\"…"
      ]
     },
     "metadata": {},
     "output_type": "display_data"
    }
   ],
   "source": [
    "# Visualize the slurm queue\n",
    "from jupyter_utils import SlurmQueueWidget\n",
    "\n",
    "SlurmQueueWidget(runner.ssh_client).view()"
   ]
  }
 ],
 "metadata": {
  "kernelspec": {
   "display_name": ".venv",
   "language": "python",
   "name": "python3"
  },
  "language_info": {
   "codemirror_mode": {
    "name": "ipython",
    "version": 3
   },
   "file_extension": ".py",
   "mimetype": "text/x-python",
   "name": "python",
   "nbconvert_exporter": "python",
   "pygments_lexer": "ipython3",
   "version": "3.11.7"
  }
 },
 "nbformat": 4,
 "nbformat_minor": 2
}
